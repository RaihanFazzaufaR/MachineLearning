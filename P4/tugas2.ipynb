{
 "cells": [
  {
   "cell_type": "code",
   "execution_count": 54,
   "metadata": {},
   "outputs": [],
   "source": [
    "from pathlib import Path\n",
    "import cv2\n",
    "import numpy as np\n",
    "from sklearn.svm import SVC\n",
    "from sklearn.metrics import accuracy_score\n",
    "from sklearn.model_selection import GridSearchCV\n",
    "from sklearn.preprocessing import StandardScaler"
   ]
  },
  {
   "cell_type": "code",
   "execution_count": 55,
   "metadata": {},
   "outputs": [],
   "source": [
    "train_dir = \"data/images/training/\"\n",
    "test_dir = \"data/images/test/\""
   ]
  },
  {
   "cell_type": "code",
   "execution_count": 56,
   "metadata": {},
   "outputs": [],
   "source": [
    "def load_dataset(img_dir):\n",
    "    p = Path(img_dir)\n",
    "    dirs = p.glob('*')\n",
    "    \n",
    "    img_list = []\n",
    "    \n",
    "    for dir in dirs:\n",
    "        label = dir.name\n",
    "        for file in dir.glob('*.jpg'):\n",
    "            img = cv2.imread(file)\n",
    "            \n",
    "            if img is not None:\n",
    "                img_list.append((img, label))\n",
    "    return img_list\n",
    "\n",
    "train_img = load_dataset(train_dir)\n",
    "test_img = load_dataset(test_dir)"
   ]
  },
  {
   "cell_type": "code",
   "execution_count": 57,
   "metadata": {},
   "outputs": [],
   "source": [
    "def standarized_input(image, size=(1100, 600)):\n",
    "    std_img = cv2.resize(image, size)\n",
    "    return std_img\n",
    "\n",
    "def preprocess(img_list):\n",
    "    std_img_list = []\n",
    "    for item in img_list:\n",
    "        image = item[0]\n",
    "        label = item[1]\n",
    "        \n",
    "        std_img = standarized_input(image)\n",
    "        img_label = 1 if label == 'day' else 0\n",
    "        std_img_list.append([std_img, img_label])\n",
    "    return std_img_list\n",
    "\n",
    "train_std_img_list = preprocess(train_img)\n",
    "test_std_img_list = preprocess(test_img)\n"
   ]
  },
  {
   "cell_type": "code",
   "execution_count": 58,
   "metadata": {},
   "outputs": [
    {
     "name": "stdout",
     "output_type": "stream",
     "text": [
      "Training label counts: [120 120]\n"
     ]
    }
   ],
   "source": [
    "train_labels = [item[1] for item in train_std_img_list]\n",
    "print(f'Training label counts: {np.bincount(train_labels)}') "
   ]
  },
  {
   "cell_type": "code",
   "execution_count": 59,
   "metadata": {},
   "outputs": [],
   "source": [
    "def calc_histogram(image):\n",
    "    hsv_image = cv2.cvtColor(image, cv2.COLOR_BGR2HSV)\n",
    "    \n",
    "    hist_h = cv2.calcHist([hsv_image], [0], None, [16], [0, 180])\n",
    "    hist_s = cv2.calcHist([hsv_image], [1], None, [16], [0, 256])\n",
    "    hist_v = cv2.calcHist([hsv_image], [2], None, [16], [0, 256])\n",
    "    \n",
    "    hist_h = cv2.normalize(hist_h, hist_h).flatten()\n",
    "    hist_s = cv2.normalize(hist_s, hist_s).flatten()\n",
    "    hist_v = cv2.normalize(hist_v, hist_v).flatten()\n",
    "\n",
    "    hist_features = np.concatenate([hist_h, hist_s, hist_v])\n",
    "    return hist_features"
   ]
  },
  {
   "cell_type": "code",
   "execution_count": 60,
   "metadata": {},
   "outputs": [],
   "source": [
    "def extract_histogram_features(img_list):\n",
    "    features = []\n",
    "    labels = []\n",
    "    for item in img_list:\n",
    "        hist = calc_histogram(item[0])\n",
    "        features.append(hist)\n",
    "        labels.append(item[1])\n",
    "    return np.array(features), np.array(labels)"
   ]
  },
  {
   "cell_type": "code",
   "execution_count": 61,
   "metadata": {},
   "outputs": [],
   "source": [
    "X_train, y_train = extract_histogram_features(train_std_img_list)\n",
    "X_test, y_test = extract_histogram_features(test_std_img_list)"
   ]
  },
  {
   "cell_type": "code",
   "execution_count": 62,
   "metadata": {},
   "outputs": [],
   "source": [
    "scaler = StandardScaler()\n",
    "\n",
    "X_train = scaler.fit_transform(X_train)\n",
    "X_test = scaler.transform(X_test)"
   ]
  },
  {
   "cell_type": "code",
   "execution_count": 63,
   "metadata": {},
   "outputs": [
    {
     "name": "stdout",
     "output_type": "stream",
     "text": [
      "Fitting 5 folds for each of 8 candidates, totalling 40 fits\n",
      "Best parameters found: {'C': 0.01, 'gamma': 0.01, 'kernel': 'linear'}\n"
     ]
    }
   ],
   "source": [
    "param_grid = {\n",
    "    'C': [0.001, 0.01],\n",
    "    'gamma': [0.01, 0.1], # adding gamma for search the best paramater and flexibilty in RBF kernel\n",
    "    'kernel': ['linear', 'rbf']\n",
    "}\n",
    "\n",
    "svc = SVC()\n",
    "\n",
    "grid_search = GridSearchCV(svc, param_grid, cv=5, verbose=1, n_jobs=-1)\n",
    "grid_search.fit(X_train, y_train)\n",
    "print(f'Best parameters found: {grid_search.best_params_}')"
   ]
  },
  {
   "cell_type": "code",
   "execution_count": 64,
   "metadata": {},
   "outputs": [
    {
     "name": "stdout",
     "output_type": "stream",
     "text": [
      "Accuracy on train data: 99.58%\n",
      "Accuracy on test data: 95.62%\n"
     ]
    }
   ],
   "source": [
    "best_model = grid_search.best_estimator_\n",
    "\n",
    "y_train_pred = best_model.predict(X_train)\n",
    "y_test_pred = best_model.predict(X_test)\n",
    "\n",
    "train_accuracy = accuracy_score(y_train, y_train_pred)\n",
    "test_accuracy = accuracy_score(y_test, y_test_pred)\n",
    "\n",
    "print(f'Accuracy on train data: {train_accuracy * 100:.2f}%')\n",
    "print(f'Accuracy on test data: {test_accuracy * 100:.2f}%')"
   ]
  }
 ],
 "metadata": {
  "kernelspec": {
   "display_name": "Python 3",
   "language": "python",
   "name": "python3"
  },
  "language_info": {
   "codemirror_mode": {
    "name": "ipython",
    "version": 3
   },
   "file_extension": ".py",
   "mimetype": "text/x-python",
   "name": "python",
   "nbconvert_exporter": "python",
   "pygments_lexer": "ipython3",
   "version": "3.12.5"
  }
 },
 "nbformat": 4,
 "nbformat_minor": 2
}
